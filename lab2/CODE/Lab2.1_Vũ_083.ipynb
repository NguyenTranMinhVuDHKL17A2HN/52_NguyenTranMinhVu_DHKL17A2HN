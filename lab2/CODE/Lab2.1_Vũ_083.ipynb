{
 "cells": [
  {
   "cell_type": "markdown",
   "metadata": {},
   "source": [
    "# 1. Tạo Dữ Liệu Mô Phỏng Nhiệt Độ:"
   ]
  },
  {
   "cell_type": "code",
   "execution_count": 1,
   "metadata": {},
   "outputs": [
    {
     "name": "stdout",
     "output_type": "stream",
     "text": [
      "Dữ liệu nhiệt độ hàng ngày trong tháng: [16.02 30.84 30.07 19.1  33.04 30.56 26.5  10.15 29.77 26.94 33.99 22.48\n",
      " 29.83 33.12 16.62 31.99 21.93 29.19 16.54 33.24 24.68 13.32 19.06 30.46\n",
      " 12.25 22.02 21.77 15.77 21.54 10.36]\n",
      "Nhiệt độ trung bình trong tháng: 23.771666666666665\n"
     ]
    }
   ],
   "source": [
    "import numpy as np\n",
    "du_lieu_nhiet_do = np.random.uniform(low=10.0, high=35.0, size=30)\n",
    "du_lieu_nhiet_do = np.round(du_lieu_nhiet_do, 2)\n",
    "nhiet_do_trung_binh = np.mean(du_lieu_nhiet_do)\n",
    "print(\"Dữ liệu nhiệt độ hàng ngày trong tháng:\", du_lieu_nhiet_do)\n",
    "print(\"Nhiệt độ trung bình trong tháng:\", nhiet_do_trung_binh)\n"
   ]
  },
  {
   "cell_type": "markdown",
   "metadata": {},
   "source": [
    "# 2. Phân Tích Xu Hướng Nhiệt Độ:"
   ]
  },
  {
   "cell_type": "code",
   "execution_count": 2,
   "metadata": {},
   "outputs": [
    {
     "name": "stdout",
     "output_type": "stream",
     "text": [
      "Ngày có nhiệt độ cao nhất: 11\n",
      "Ngày có nhiệt độ thấp nhất: 8\n",
      "Ngày có sự biến đổi nhiệt độ cao nhất: 8\n"
     ]
    }
   ],
   "source": [
    "chi_so_max = np.argmax(du_lieu_nhiet_do)\n",
    "chi_so_min = np.argmin(du_lieu_nhiet_do)\n",
    "\n",
    "ngay_max = chi_so_max + 1  # Ngày tính từ 1\n",
    "ngay_min = chi_so_min + 1\n",
    "\n",
    "print(\"Ngày có nhiệt độ cao nhất:\", ngay_max)\n",
    "print(\"Ngày có nhiệt độ thấp nhất:\", ngay_min)\n",
    "\n",
    "chenh_lech_nhiet_do = np.diff(du_lieu_nhiet_do)\n",
    "chi_so_max_chenh_lech = np.argmax(chenh_lech_nhiet_do)\n",
    "ngay_max_chenh_lech = chi_so_max_chenh_lech + 1  # Ngày chênh lệch tính từ ngày thứ nhất\n",
    "\n",
    "print(\"Ngày có sự biến đổi nhiệt độ cao nhất:\", ngay_max_chenh_lech)\n"
   ]
  },
  {
   "cell_type": "markdown",
   "metadata": {},
   "source": [
    "# 3. Áp dụng Fancy Indexing:"
   ]
  },
  {
   "cell_type": "code",
   "execution_count": 4,
   "metadata": {},
   "outputs": [
    {
     "name": "stdout",
     "output_type": "stream",
     "text": [
      "Các ngày có nhiệt độ cao hơn 20 độ C: [ 2  3  5  6  7  9 10 11 12 13 14 16 17 18 20 21 24 26 27 29]\n",
      "Nhiệt độ của ngày 5, 10, 15, 20, và 25: [33.04 26.94 16.62 33.24 12.25]\n",
      "Các ngày có nhiệt độ trên trung bình: [ 2  3  5  6  7  9 10 11 13 14 16 18 20 21 24]\n",
      "Nhiệt độ của các ngày chẵn: [30.84 19.1  30.56 10.15 26.94 22.48 33.12 31.99 29.19 33.24 13.32 30.46\n",
      " 22.02 15.77 10.36]\n",
      "Nhiệt độ của các ngày lẻ: [16.02 30.07 33.04 26.5  29.77 33.99 29.83 16.62 21.93 16.54 24.68 19.06\n",
      " 12.25 21.77 21.54]\n"
     ]
    }
   ],
   "source": [
    "ngay_nhiet_do_cao_hon_20 = np.where(du_lieu_nhiet_do > 20)[0] + 1\n",
    "print(\"Các ngày có nhiệt độ cao hơn 20 độ C:\", ngay_nhiet_do_cao_hon_20)\n",
    "\n",
    "ngay_cu_the = [4, 9, 14, 19, 24]  \n",
    "nhiet_do_cu_the = du_lieu_nhiet_do[ngay_cu_the]\n",
    "print(\"Nhiệt độ của ngày 5, 10, 15, 20, và 25:\", nhiet_do_cu_the)\n",
    "\n",
    "ngay_nhiet_do_tren_trung_binh = np.where(du_lieu_nhiet_do > nhiet_do_trung_binh)[0] + 1\n",
    "print(\"Các ngày có nhiệt độ trên trung bình:\", ngay_nhiet_do_tren_trung_binh)\n",
    "\n",
    "nhiet_do_ngay_chan = du_lieu_nhiet_do[1::2] \n",
    "nhiet_do_ngay_le = du_lieu_nhiet_do[0::2]  \n",
    "\n",
    "print(\"Nhiệt độ của các ngày chẵn:\", nhiet_do_ngay_chan)\n",
    "print(\"Nhiệt độ của các ngày lẻ:\", nhiet_do_ngay_le)\n"
   ]
  }
 ],
 "metadata": {
  "kernelspec": {
   "display_name": "Python 3",
   "language": "python",
   "name": "python3"
  },
  "language_info": {
   "codemirror_mode": {
    "name": "ipython",
    "version": 3
   },
   "file_extension": ".py",
   "mimetype": "text/x-python",
   "name": "python",
   "nbconvert_exporter": "python",
   "pygments_lexer": "ipython3",
   "version": "3.12.1"
  }
 },
 "nbformat": 4,
 "nbformat_minor": 2
}
