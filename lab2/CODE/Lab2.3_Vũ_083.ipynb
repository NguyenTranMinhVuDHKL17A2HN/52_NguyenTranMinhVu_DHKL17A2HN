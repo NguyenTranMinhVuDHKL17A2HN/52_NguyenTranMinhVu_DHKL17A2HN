{
 "cells": [
  {
   "cell_type": "markdown",
   "metadata": {},
   "source": [
    "# Câu1"
   ]
  },
  {
   "cell_type": "code",
   "execution_count": 1,
   "metadata": {},
   "outputs": [
    {
     "name": "stderr",
     "output_type": "stream",
     "text": [
      "<>:2: SyntaxWarning: invalid escape sequence '\\D'\n",
      "<>:2: SyntaxWarning: invalid escape sequence '\\D'\n",
      "C:\\Users\\MINH VU\\AppData\\Local\\Temp\\ipykernel_22432\\2436963336.py:2: SyntaxWarning: invalid escape sequence '\\D'\n",
      "  path_2=\"C:\\DHKL17A2\\lab2\\DATA\\shifts.txt\"\n"
     ]
    },
    {
     "data": {
      "text/plain": [
       "([94.0, 97.0, 114.0, 117.0, 117.0],\n",
       " ['Afternoon', 'Afternoon', 'Afternoon', 'Morning', 'Afternoon'])"
      ]
     },
     "execution_count": 1,
     "metadata": {},
     "output_type": "execute_result"
    }
   ],
   "source": [
    "path_1=\"C:/DHKL17A2/lab2/DATA/efficiency.txt\"\n",
    "path_2=\"C:\\DHKL17A2\\lab2\\DATA\\shifts.txt\"\n",
    "efficiency=[]\n",
    "with open (path_1,'r')as file :\n",
    "    for line in file:\n",
    "        efficiency.append(float(line.strip()))\n",
    "\n",
    "shifts=[]\n",
    "with open (path_2,'r')as file :\n",
    "    for line in file:\n",
    "        shifts.append(line.strip())\n",
    "efficiency[:5],shifts[:5]"
   ]
  },
  {
   "cell_type": "markdown",
   "metadata": {},
   "source": [
    "# Câu 2"
   ]
  },
  {
   "cell_type": "code",
   "execution_count": 2,
   "metadata": {},
   "outputs": [
    {
     "data": {
      "text/plain": [
       "dtype('<U9')"
      ]
     },
     "execution_count": 2,
     "metadata": {},
     "output_type": "execute_result"
    }
   ],
   "source": [
    "import numpy as np \n",
    "np_shifts=np.array(shifts)\n",
    "np_shifts.dtype"
   ]
  },
  {
   "cell_type": "markdown",
   "metadata": {},
   "source": [
    "# Câu 3"
   ]
  },
  {
   "cell_type": "code",
   "execution_count": null,
   "metadata": {},
   "outputs": [],
   "source": [
    "np_effiency =np.array(efficiency)\n",
    "np_effiency.dtype"
   ]
  },
  {
   "cell_type": "markdown",
   "metadata": {},
   "source": [
    "# Câu 4"
   ]
  },
  {
   "cell_type": "code",
   "execution_count": null,
   "metadata": {},
   "outputs": [],
   "source": [
    "morning_mask=np_shifts=='Morning'\n",
    "hieu_suat_morning=np_effiency[morning_mask]\n",
    "hieu_suat_TB_morning=np.mean(hieu_suat_morning)\n",
    "hieu_suat_TB_morning"
   ]
  },
  {
   "cell_type": "markdown",
   "metadata": {},
   "source": [
    "# Câu 5"
   ]
  },
  {
   "cell_type": "code",
   "execution_count": null,
   "metadata": {},
   "outputs": [],
   "source": [
    "non_morning=np_shifts !='Morning'\n",
    "hieu_suat_non_morning=np_effiency[non_morning]\n",
    "hieu_suat_TB_non_morning=np.mean(hieu_suat_non_morning)\n",
    "hieu_suat_TB_non_morning"
   ]
  },
  {
   "cell_type": "markdown",
   "metadata": {},
   "source": [
    "# Câu 6"
   ]
  },
  {
   "cell_type": "code",
   "execution_count": null,
   "metadata": {},
   "outputs": [],
   "source": [
    "dtype =[(\"shift\",'U10'),(\"efficiency\",float)]\n",
    "workers=np.array(list(zip(shifts,efficiency)),dtype=dtype)\n",
    "workers[:5]"
   ]
  },
  {
   "cell_type": "markdown",
   "metadata": {},
   "source": [
    "# Câu 7"
   ]
  },
  {
   "cell_type": "code",
   "execution_count": null,
   "metadata": {},
   "outputs": [],
   "source": [
    "sorted_workers = sorted(workers, key=lambda x: x['efficiency'], reverse=True)\n",
    "\n",
    "highest_efficiency = sorted_workers[0]\n",
    "lowest_efficiency = sorted_workers[-1]\n",
    "\n",
    "print(\"Danh sách workers sau khi sắp xếp theo efficiency:\")\n",
    "for worker in sorted_workers:\n",
    "    print(worker)\n",
    "\n",
    "print(\"\\nCa làm việc có hiệu suất cao nhất:\")\n",
    "print(highest_efficiency)\n",
    "\n",
    "print(\"\\nCa làm việc có hiệu suất thấp nhất:\")\n",
    "print(lowest_efficiency)"
   ]
  },
  {
   "cell_type": "code",
   "execution_count": null,
   "metadata": {},
   "outputs": [],
   "source": []
  }
 ],
 "metadata": {
  "kernelspec": {
   "display_name": "Python 3",
   "language": "python",
   "name": "python3"
  },
  "language_info": {
   "codemirror_mode": {
    "name": "ipython",
    "version": 3
   },
   "file_extension": ".py",
   "mimetype": "text/x-python",
   "name": "python",
   "nbconvert_exporter": "python",
   "pygments_lexer": "ipython3",
   "version": "3.12.1"
  }
 },
 "nbformat": 4,
 "nbformat_minor": 2
}
