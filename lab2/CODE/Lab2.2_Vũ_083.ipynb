{
 "cells": [
  {
   "cell_type": "markdown",
   "metadata": {},
   "source": [
    "# Đọc dữ liệu"
   ]
  },
  {
   "cell_type": "code",
   "execution_count": 18,
   "metadata": {},
   "outputs": [
    {
     "data": {
      "text/plain": [
       "[[3.04, 3.39, 6.7],\n",
       " [5.8, 6.41, 6.62],\n",
       " [2.59, 3.57, 9.16],\n",
       " [3.81, 8.78, 9.24],\n",
       " [8.91, 9.64, 6.39]]"
      ]
     },
     "execution_count": 18,
     "metadata": {},
     "output_type": "execute_result"
    }
   ],
   "source": [
    "\n",
    "import csv\n",
    "file_path=\"C:/DHKL17A2/lab2/DATA/diem_hoc_phan.csv\"\n",
    "\n",
    "danh_sach_du_lieu = []\n",
    "with open(file_path,newline=\"\",encoding='utf-8') as csvfile:\n",
    "    doc = csv.reader(csvfile)\n",
    "    tieu_de = next(doc)\n",
    "    for dong in doc:\n",
    "        danh_sach_du_lieu.append([float(score)for score in dong [2:]])\n",
    "danh_sach_du_lieu[:5]\n",
    "\n",
    "\n"
   ]
  },
  {
   "cell_type": "markdown",
   "metadata": {},
   "source": [
    "# Chuyển đổi data thành numpy"
   ]
  },
  {
   "cell_type": "code",
   "execution_count": 19,
   "metadata": {},
   "outputs": [
    {
     "data": {
      "text/plain": [
       "array([[3.04, 3.39, 6.7 ],\n",
       "       [5.8 , 6.41, 6.62],\n",
       "       [2.59, 3.57, 9.16],\n",
       "       [3.81, 8.78, 9.24],\n",
       "       [8.91, 9.64, 6.39]])"
      ]
     },
     "execution_count": 19,
     "metadata": {},
     "output_type": "execute_result"
    }
   ],
   "source": [
    "import numpy as np\n",
    "diem_np_array=np.array(danh_sach_du_lieu)\n",
    "diem_np_array[:5]"
   ]
  },
  {
   "cell_type": "markdown",
   "metadata": {},
   "source": [
    "# Qui điểm từ thang điểm sang tín chỉ"
   ]
  },
  {
   "cell_type": "code",
   "execution_count": 22,
   "metadata": {},
   "outputs": [
    {
     "data": {
      "text/plain": [
       "array([['F', 'F', 'C+'],\n",
       "       ['C', 'F', 'C+'],\n",
       "       ['F', 'F', 'A'],\n",
       "       ['F', 'A', 'A'],\n",
       "       ['A', 'A', 'F']], dtype='<U2')"
      ]
     },
     "execution_count": 22,
     "metadata": {},
     "output_type": "execute_result"
    }
   ],
   "source": [
    "\n",
    "def chuyen_doi_diem(so_diem):\n",
    "    if 8.5 <= so_diem <= 10:\n",
    "        return 'A'\n",
    "    elif 8.0 <= so_diem <= 8.4:\n",
    "        return 'B+'\n",
    "    elif 7.0 <= so_diem < 8:\n",
    "        return 'B'\n",
    "    elif 6.5 <= so_diem < 7:\n",
    "        return 'C+'\n",
    "    elif 5.5 <= so_diem < 6:\n",
    "        return 'C'\n",
    "    elif 5.0 <= so_diem < 5.5:\n",
    "        return 'D+'\n",
    "    elif 4.0 <= so_diem < 5:\n",
    "        return 'D'\n",
    "    else:\n",
    "        return 'F'\n",
    "\n",
    "# Chuyển đổi các điểm học phần\n",
    "chuyen_doi_diem_chu = np.vectorize(chuyen_doi_diem)(diem_np_array)\n",
    "chuyen_doi_diem_chu[:5]\n",
    "\n"
   ]
  },
  {
   "cell_type": "markdown",
   "metadata": {},
   "source": [
    "# 3.Chia tách dữ liệu để phân tích"
   ]
  },
  {
   "cell_type": "code",
   "execution_count": 31,
   "metadata": {},
   "outputs": [],
   "source": [
    "# Chia tách dữ liệu theo học phần\n",
    "Diem_hoc_phan_1 = diem_np_array[:, 0]\n",
    "Diem_hoc_phan_2 = diem_np_array[:, 1]\n",
    "Diem_hoc_phan_3 = diem_np_array[:, 2]\n"
   ]
  },
  {
   "cell_type": "markdown",
   "metadata": {},
   "source": [
    "# Phân tích điểm dữ liệu điểm số cho mỗi học phần"
   ]
  },
  {
   "cell_type": "code",
   "execution_count": 32,
   "metadata": {},
   "outputs": [],
   "source": [
    "Tong_hp1=(np.sum(Diem_hoc_phan_1),np.mean(Diem_hoc_phan_1),np.std(Diem_hoc_phan_1))\n",
    "Tong_hp2=(np.sum(Diem_hoc_phan_2),np.mean(Diem_hoc_phan_2),np.std(Diem_hoc_phan_2))\n",
    "Tong_hp3=(np.sum(Diem_hoc_phan_3),np.mean(Diem_hoc_phan_3),np.std(Diem_hoc_phan_3))"
   ]
  },
  {
   "cell_type": "markdown",
   "metadata": {},
   "source": [
    "# Báo kết quả ra màn hình"
   ]
  },
  {
   "cell_type": "code",
   "execution_count": 33,
   "metadata": {},
   "outputs": [
    {
     "name": "stdout",
     "output_type": "stream",
     "text": [
      "Học phần 1 :\n",
      "Tổng điểm 154.93\n",
      "Điểm trung bình :5.16\n",
      "Độ lệch chuẩn :2.41\n",
      "\n",
      "Học phần 2:\n",
      "Tổng điểm 170.27\n",
      "Điểm trung bình :5.68\n",
      "Độ lệch chuẩn :2.25\n",
      "\n",
      "Học phần 3 :\n",
      "Tổng điểm 188.78\n",
      "Điểm trung bình :6.29\n",
      "Độ lệch chuẩn :1.81\n"
     ]
    }
   ],
   "source": [
    "print (\"Học phần 1 :\")\n",
    "print (f\"Tổng điểm {Tong_hp1[0]:.2f}\")\n",
    "print (f\"Điểm trung bình :{Tong_hp1[1]:.2f}\")\n",
    "print (f\"Độ lệch chuẩn :{Tong_hp1[2]:.2f}\")\n",
    "\n",
    "print (\"\\nHọc phần 2:\")\n",
    "print (f\"Tổng điểm {Tong_hp2[0]:.2f}\")\n",
    "print (f\"Điểm trung bình :{Tong_hp2[1]:.2f}\")\n",
    "print (f\"Độ lệch chuẩn :{Tong_hp2[2]:.2f}\")\n",
    "\n",
    "print (\"\\nHọc phần 3 :\")\n",
    "print (f\"Tổng điểm {Tong_hp3[0]:.2f}\")\n",
    "print (f\"Điểm trung bình :{Tong_hp3[1]:.2f}\")\n",
    "print (f\"Độ lệch chuẩn :{Tong_hp3[2]:.2f}\")"
   ]
  },
  {
   "cell_type": "markdown",
   "metadata": {},
   "source": [
    "# 4.Phân tích tổng, trung bình và độ lệch chuẩn cho toàn bộ điểm số của lớp"
   ]
  },
  {
   "cell_type": "code",
   "execution_count": 34,
   "metadata": {},
   "outputs": [
    {
     "data": {
      "text/plain": [
       "(np.float64(513.98),\n",
       " np.float64(5.710888888888889),\n",
       " np.float64(2.2185594146975665))"
      ]
     },
     "execution_count": 34,
     "metadata": {},
     "output_type": "execute_result"
    }
   ],
   "source": [
    "tong_diem_all=np.sum(diem_np_array)\n",
    "diem_tb_all=np.mean(diem_np_array)\n",
    "std_devlation_all=np.std(diem_np_array)\n",
    "tong_diem_all,diem_tb_all,std_devlation_all"
   ]
  }
 ],
 "metadata": {
  "kernelspec": {
   "display_name": "Python 3",
   "language": "python",
   "name": "python3"
  },
  "language_info": {
   "codemirror_mode": {
    "name": "ipython",
    "version": 3
   },
   "file_extension": ".py",
   "mimetype": "text/x-python",
   "name": "python",
   "nbconvert_exporter": "python",
   "pygments_lexer": "ipython3",
   "version": "3.12.1"
  }
 },
 "nbformat": 4,
 "nbformat_minor": 2
}
